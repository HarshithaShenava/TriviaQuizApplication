{
 "cells": [
  {
   "cell_type": "markdown",
   "metadata": {},
   "source": [
    "Creating an Interactive Python Trivia Quiz Application"
   ]
  },
  {
   "cell_type": "code",
   "execution_count": 1,
   "metadata": {},
   "outputs": [
    {
     "name": "stdout",
     "output_type": "stream",
     "text": [
      "Welcome to the Trivia Quiz!\n",
      "\n",
      "Question 1: What is the capital of India?\n",
      "1. Mumbai\n",
      "2. Hyderabad\n",
      "3. New Delhi\n",
      "4. Gujarat\n",
      "Wrong!\n",
      "\n",
      "\n",
      "Question 2: Which planet is known as the Red Planet?\n",
      "1. Venus\n",
      "2. Mars\n",
      "3. Jupiter\n",
      "4. Saturn\n",
      "Correct!\n",
      "\n",
      "\n",
      "Question 3: What is the largest mammal in the world?\n",
      "1. Elephant\n",
      "2. Giraffe\n",
      "3. Blue Whale\n",
      "4. Dolphin\n",
      "Correct!\n",
      "\n",
      "Your final score is: 2/3\n"
     ]
    }
   ],
   "source": [
    "class QuizQuestion:\n",
    "    def __init__(self, question, options, correct_answer):\n",
    "        self.question = question\n",
    "        self.options = options\n",
    "        self.correct_answer = correct_answer\n",
    "    def is_correct(self, user_answer):\n",
    "        return user_answer == self.correct_answer\n",
    "class TriviaQuiz:\n",
    "    def __init__(self):\n",
    "        self.questions=[]\n",
    "        self.score=0\n",
    "    def add_question(self,question):\n",
    "        self.questions.append(question)\n",
    "    def play(self):\n",
    "        print(\"Welcome to the Trivia Quiz!\")\n",
    "        for i, question in enumerate(self.questions, start=1):\n",
    "            print(f\"\\nQuestion {i}: {question.question}\")\n",
    "            for j, option in enumerate(question.options, start=1):\n",
    "                print(f\"{j}. {option}\")\n",
    "            user_answer = input(\"Enter the option number (1-4): \")\n",
    "\n",
    "            if user_answer.isnumeric():\n",
    "                user_answer = int(user_answer)\n",
    "                if 1 <= user_answer <= 4:\n",
    "                    if question.is_correct(user_answer):\n",
    "                        print(\"Correct!\\n\")\n",
    "                        self.score += 1\n",
    "                    else:\n",
    "                        print(\"Wrong!\\n\")\n",
    "                else:\n",
    "                    print(\"Invalid option number. Please enter a number between 1 and 4.\\n\")\n",
    "            else:\n",
    "                print(\"Invalid input. Please enter a number between 1 and 4.\\n\")\n",
    "        print(f\"Your final score is: {self.score}/{len(self.questions)}\")\n",
    "def main():\n",
    "    question1 = QuizQuestion(\"What is the capital of India?\", [\"Mumbai\", \"Hyderabad\", \"New Delhi\", \"Gujarat\"], 3)\n",
    "    question2 = QuizQuestion(\"Which planet is known as the Red Planet?\", [\"Venus\", \"Mars\", \"Jupiter\", \"Saturn\"], 2)\n",
    "    question3 = QuizQuestion(\"What is the largest mammal in the world?\", [\"Elephant\", \"Giraffe\", \"Blue Whale\", \"Dolphin\"], 3)\n",
    "    quiz = TriviaQuiz()\n",
    "    quiz.add_question(question1)\n",
    "    quiz.add_question(question2)\n",
    "    quiz.add_question(question3)\n",
    "    quiz.play()\n",
    "if __name__ == \"__main__\":\n",
    "    main()"
   ]
  }
 ],
 "metadata": {
  "kernelspec": {
   "display_name": "Edujournal",
   "language": "python",
   "name": "python3"
  },
  "language_info": {
   "codemirror_mode": {
    "name": "ipython",
    "version": 3
   },
   "file_extension": ".py",
   "mimetype": "text/x-python",
   "name": "python",
   "nbconvert_exporter": "python",
   "pygments_lexer": "ipython3",
   "version": "3.11.4"
  }
 },
 "nbformat": 4,
 "nbformat_minor": 2
}
